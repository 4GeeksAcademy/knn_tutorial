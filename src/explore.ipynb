{
    "cells": [
        {
            "cell_type": "markdown",
            "metadata": {},
            "source": [
                "# Explore here"
            ]
        },
        {
            "cell_type": "code",
            "execution_count": 3,
            "metadata": {},
            "outputs": [],
            "source": [
                "import pandas as pd\n",
                "import numpy as np\n",
                "import matplotlib.pyplot as plt\n",
                "import sqlite3\n",
                "from sklearn.feature_extraction.text import TfidfVectorizer\n",
                "from sklearn.metrics.pairwise import cosine_similarity"
            ]
        },
        {
            "cell_type": "markdown",
            "metadata": {},
            "source": [
                "CARGA DE DATOS Y ESTRUCTURA|\n",
                "--"
            ]
        },
        {
            "cell_type": "code",
            "execution_count": 4,
            "metadata": {},
            "outputs": [],
            "source": [
                "#cargamos los dos csv necesasrios para la practica y los guardamos como csv local\n",
                "# df1 = pd.read_csv('https://raw.githubusercontent.com/4GeeksAcademy/k-nearest-neighbors-project-tutorial/main/tmdb_5000_movies.csv').to_csv('movies.csv')\n",
                "# df2 =  pd.read_csv('https://raw.githubusercontent.com/4GeeksAcademy/k-nearest-neighbors-project-tutorial/main/tmdb_5000_credits.csv').to_csv('credits.csv')\n",
                "#---------------------------------------------\n",
                "# Carga de los csv locales\n",
                "df_movies = pd.read_csv('movies.csv')\n",
                "df_credits = pd.read_csv('credits.csv')\n",
                "# Mostramos todas las columnas\n",
                "pd.set_option('display.max_columns', None)\n",
                "\n"
            ]
        },
        {
            "cell_type": "code",
            "execution_count": 5,
            "metadata": {},
            "outputs": [
                {
                    "data": {
                        "text/html": [
                            "<div>\n",
                            "<style scoped>\n",
                            "    .dataframe tbody tr th:only-of-type {\n",
                            "        vertical-align: middle;\n",
                            "    }\n",
                            "\n",
                            "    .dataframe tbody tr th {\n",
                            "        vertical-align: top;\n",
                            "    }\n",
                            "\n",
                            "    .dataframe thead th {\n",
                            "        text-align: right;\n",
                            "    }\n",
                            "</style>\n",
                            "<table border=\"1\" class=\"dataframe\">\n",
                            "  <thead>\n",
                            "    <tr style=\"text-align: right;\">\n",
                            "      <th></th>\n",
                            "      <th>Unnamed: 0</th>\n",
                            "      <th>budget</th>\n",
                            "      <th>genres</th>\n",
                            "      <th>homepage</th>\n",
                            "      <th>id</th>\n",
                            "      <th>keywords</th>\n",
                            "      <th>original_language</th>\n",
                            "      <th>original_title</th>\n",
                            "      <th>overview</th>\n",
                            "      <th>popularity</th>\n",
                            "      <th>production_companies</th>\n",
                            "      <th>production_countries</th>\n",
                            "      <th>release_date</th>\n",
                            "      <th>revenue</th>\n",
                            "      <th>runtime</th>\n",
                            "      <th>spoken_languages</th>\n",
                            "      <th>status</th>\n",
                            "      <th>tagline</th>\n",
                            "      <th>title</th>\n",
                            "      <th>vote_average</th>\n",
                            "      <th>vote_count</th>\n",
                            "    </tr>\n",
                            "  </thead>\n",
                            "  <tbody>\n",
                            "    <tr>\n",
                            "      <th>0</th>\n",
                            "      <td>0</td>\n",
                            "      <td>237000000</td>\n",
                            "      <td>[{\"id\": 28, \"name\": \"Action\"}, {\"id\": 12, \"nam...</td>\n",
                            "      <td>http://www.avatarmovie.com/</td>\n",
                            "      <td>19995</td>\n",
                            "      <td>[{\"id\": 1463, \"name\": \"culture clash\"}, {\"id\":...</td>\n",
                            "      <td>en</td>\n",
                            "      <td>Avatar</td>\n",
                            "      <td>In the 22nd century, a paraplegic Marine is di...</td>\n",
                            "      <td>150.437577</td>\n",
                            "      <td>[{\"name\": \"Ingenious Film Partners\", \"id\": 289...</td>\n",
                            "      <td>[{\"iso_3166_1\": \"US\", \"name\": \"United States o...</td>\n",
                            "      <td>2009-12-10</td>\n",
                            "      <td>2787965087</td>\n",
                            "      <td>162.0</td>\n",
                            "      <td>[{\"iso_639_1\": \"en\", \"name\": \"English\"}, {\"iso...</td>\n",
                            "      <td>Released</td>\n",
                            "      <td>Enter the World of Pandora.</td>\n",
                            "      <td>Avatar</td>\n",
                            "      <td>7.2</td>\n",
                            "      <td>11800</td>\n",
                            "    </tr>\n",
                            "    <tr>\n",
                            "      <th>1</th>\n",
                            "      <td>1</td>\n",
                            "      <td>300000000</td>\n",
                            "      <td>[{\"id\": 12, \"name\": \"Adventure\"}, {\"id\": 14, \"...</td>\n",
                            "      <td>http://disney.go.com/disneypictures/pirates/</td>\n",
                            "      <td>285</td>\n",
                            "      <td>[{\"id\": 270, \"name\": \"ocean\"}, {\"id\": 726, \"na...</td>\n",
                            "      <td>en</td>\n",
                            "      <td>Pirates of the Caribbean: At World's End</td>\n",
                            "      <td>Captain Barbossa, long believed to be dead, ha...</td>\n",
                            "      <td>139.082615</td>\n",
                            "      <td>[{\"name\": \"Walt Disney Pictures\", \"id\": 2}, {\"...</td>\n",
                            "      <td>[{\"iso_3166_1\": \"US\", \"name\": \"United States o...</td>\n",
                            "      <td>2007-05-19</td>\n",
                            "      <td>961000000</td>\n",
                            "      <td>169.0</td>\n",
                            "      <td>[{\"iso_639_1\": \"en\", \"name\": \"English\"}]</td>\n",
                            "      <td>Released</td>\n",
                            "      <td>At the end of the world, the adventure begins.</td>\n",
                            "      <td>Pirates of the Caribbean: At World's End</td>\n",
                            "      <td>6.9</td>\n",
                            "      <td>4500</td>\n",
                            "    </tr>\n",
                            "    <tr>\n",
                            "      <th>2</th>\n",
                            "      <td>2</td>\n",
                            "      <td>245000000</td>\n",
                            "      <td>[{\"id\": 28, \"name\": \"Action\"}, {\"id\": 12, \"nam...</td>\n",
                            "      <td>http://www.sonypictures.com/movies/spectre/</td>\n",
                            "      <td>206647</td>\n",
                            "      <td>[{\"id\": 470, \"name\": \"spy\"}, {\"id\": 818, \"name...</td>\n",
                            "      <td>en</td>\n",
                            "      <td>Spectre</td>\n",
                            "      <td>A cryptic message from Bond’s past sends him o...</td>\n",
                            "      <td>107.376788</td>\n",
                            "      <td>[{\"name\": \"Columbia Pictures\", \"id\": 5}, {\"nam...</td>\n",
                            "      <td>[{\"iso_3166_1\": \"GB\", \"name\": \"United Kingdom\"...</td>\n",
                            "      <td>2015-10-26</td>\n",
                            "      <td>880674609</td>\n",
                            "      <td>148.0</td>\n",
                            "      <td>[{\"iso_639_1\": \"fr\", \"name\": \"Fran\\u00e7ais\"},...</td>\n",
                            "      <td>Released</td>\n",
                            "      <td>A Plan No One Escapes</td>\n",
                            "      <td>Spectre</td>\n",
                            "      <td>6.3</td>\n",
                            "      <td>4466</td>\n",
                            "    </tr>\n",
                            "  </tbody>\n",
                            "</table>\n",
                            "</div>"
                        ],
                        "text/plain": [
                            "   Unnamed: 0     budget                                             genres  \\\n",
                            "0           0  237000000  [{\"id\": 28, \"name\": \"Action\"}, {\"id\": 12, \"nam...   \n",
                            "1           1  300000000  [{\"id\": 12, \"name\": \"Adventure\"}, {\"id\": 14, \"...   \n",
                            "2           2  245000000  [{\"id\": 28, \"name\": \"Action\"}, {\"id\": 12, \"nam...   \n",
                            "\n",
                            "                                       homepage      id  \\\n",
                            "0                   http://www.avatarmovie.com/   19995   \n",
                            "1  http://disney.go.com/disneypictures/pirates/     285   \n",
                            "2   http://www.sonypictures.com/movies/spectre/  206647   \n",
                            "\n",
                            "                                            keywords original_language  \\\n",
                            "0  [{\"id\": 1463, \"name\": \"culture clash\"}, {\"id\":...                en   \n",
                            "1  [{\"id\": 270, \"name\": \"ocean\"}, {\"id\": 726, \"na...                en   \n",
                            "2  [{\"id\": 470, \"name\": \"spy\"}, {\"id\": 818, \"name...                en   \n",
                            "\n",
                            "                             original_title  \\\n",
                            "0                                    Avatar   \n",
                            "1  Pirates of the Caribbean: At World's End   \n",
                            "2                                   Spectre   \n",
                            "\n",
                            "                                            overview  popularity  \\\n",
                            "0  In the 22nd century, a paraplegic Marine is di...  150.437577   \n",
                            "1  Captain Barbossa, long believed to be dead, ha...  139.082615   \n",
                            "2  A cryptic message from Bond’s past sends him o...  107.376788   \n",
                            "\n",
                            "                                production_companies  \\\n",
                            "0  [{\"name\": \"Ingenious Film Partners\", \"id\": 289...   \n",
                            "1  [{\"name\": \"Walt Disney Pictures\", \"id\": 2}, {\"...   \n",
                            "2  [{\"name\": \"Columbia Pictures\", \"id\": 5}, {\"nam...   \n",
                            "\n",
                            "                                production_countries release_date     revenue  \\\n",
                            "0  [{\"iso_3166_1\": \"US\", \"name\": \"United States o...   2009-12-10  2787965087   \n",
                            "1  [{\"iso_3166_1\": \"US\", \"name\": \"United States o...   2007-05-19   961000000   \n",
                            "2  [{\"iso_3166_1\": \"GB\", \"name\": \"United Kingdom\"...   2015-10-26   880674609   \n",
                            "\n",
                            "   runtime                                   spoken_languages    status  \\\n",
                            "0    162.0  [{\"iso_639_1\": \"en\", \"name\": \"English\"}, {\"iso...  Released   \n",
                            "1    169.0           [{\"iso_639_1\": \"en\", \"name\": \"English\"}]  Released   \n",
                            "2    148.0  [{\"iso_639_1\": \"fr\", \"name\": \"Fran\\u00e7ais\"},...  Released   \n",
                            "\n",
                            "                                          tagline  \\\n",
                            "0                     Enter the World of Pandora.   \n",
                            "1  At the end of the world, the adventure begins.   \n",
                            "2                           A Plan No One Escapes   \n",
                            "\n",
                            "                                      title  vote_average  vote_count  \n",
                            "0                                    Avatar           7.2       11800  \n",
                            "1  Pirates of the Caribbean: At World's End           6.9        4500  \n",
                            "2                                   Spectre           6.3        4466  "
                        ]
                    },
                    "metadata": {},
                    "output_type": "display_data"
                },
                {
                    "data": {
                        "text/html": [
                            "<div>\n",
                            "<style scoped>\n",
                            "    .dataframe tbody tr th:only-of-type {\n",
                            "        vertical-align: middle;\n",
                            "    }\n",
                            "\n",
                            "    .dataframe tbody tr th {\n",
                            "        vertical-align: top;\n",
                            "    }\n",
                            "\n",
                            "    .dataframe thead th {\n",
                            "        text-align: right;\n",
                            "    }\n",
                            "</style>\n",
                            "<table border=\"1\" class=\"dataframe\">\n",
                            "  <thead>\n",
                            "    <tr style=\"text-align: right;\">\n",
                            "      <th></th>\n",
                            "      <th>Unnamed: 0</th>\n",
                            "      <th>movie_id</th>\n",
                            "      <th>title</th>\n",
                            "      <th>cast</th>\n",
                            "      <th>crew</th>\n",
                            "    </tr>\n",
                            "  </thead>\n",
                            "  <tbody>\n",
                            "    <tr>\n",
                            "      <th>0</th>\n",
                            "      <td>0</td>\n",
                            "      <td>19995</td>\n",
                            "      <td>Avatar</td>\n",
                            "      <td>[{\"cast_id\": 242, \"character\": \"Jake Sully\", \"...</td>\n",
                            "      <td>[{\"credit_id\": \"52fe48009251416c750aca23\", \"de...</td>\n",
                            "    </tr>\n",
                            "    <tr>\n",
                            "      <th>1</th>\n",
                            "      <td>1</td>\n",
                            "      <td>285</td>\n",
                            "      <td>Pirates of the Caribbean: At World's End</td>\n",
                            "      <td>[{\"cast_id\": 4, \"character\": \"Captain Jack Spa...</td>\n",
                            "      <td>[{\"credit_id\": \"52fe4232c3a36847f800b579\", \"de...</td>\n",
                            "    </tr>\n",
                            "    <tr>\n",
                            "      <th>2</th>\n",
                            "      <td>2</td>\n",
                            "      <td>206647</td>\n",
                            "      <td>Spectre</td>\n",
                            "      <td>[{\"cast_id\": 1, \"character\": \"James Bond\", \"cr...</td>\n",
                            "      <td>[{\"credit_id\": \"54805967c3a36829b5002c41\", \"de...</td>\n",
                            "    </tr>\n",
                            "  </tbody>\n",
                            "</table>\n",
                            "</div>"
                        ],
                        "text/plain": [
                            "   Unnamed: 0  movie_id                                     title  \\\n",
                            "0           0     19995                                    Avatar   \n",
                            "1           1       285  Pirates of the Caribbean: At World's End   \n",
                            "2           2    206647                                   Spectre   \n",
                            "\n",
                            "                                                cast  \\\n",
                            "0  [{\"cast_id\": 242, \"character\": \"Jake Sully\", \"...   \n",
                            "1  [{\"cast_id\": 4, \"character\": \"Captain Jack Spa...   \n",
                            "2  [{\"cast_id\": 1, \"character\": \"James Bond\", \"cr...   \n",
                            "\n",
                            "                                                crew  \n",
                            "0  [{\"credit_id\": \"52fe48009251416c750aca23\", \"de...  \n",
                            "1  [{\"credit_id\": \"52fe4232c3a36847f800b579\", \"de...  \n",
                            "2  [{\"credit_id\": \"54805967c3a36829b5002c41\", \"de...  "
                        ]
                    },
                    "metadata": {},
                    "output_type": "display_data"
                }
            ],
            "source": [
                "# Mostramos la estructura de los dataframes\n",
                "display(df_movies.head(3))\n",
                "display(df_credits.head(3))"
            ]
        },
        {
            "cell_type": "markdown",
            "metadata": {},
            "source": [
                "---"
            ]
        },
        {
            "cell_type": "markdown",
            "metadata": {},
            "source": [
                "CREACION DE BASE DE DATOS Y PREPROCESADO|\n",
                "--"
            ]
        },
        {
            "cell_type": "code",
            "execution_count": 6,
            "metadata": {},
            "outputs": [],
            "source": [
                "# Crear o conectar a la base de datos\n",
                "conn = sqlite3.connect('movies_database.db')\n",
                "# Instanciamos cursor\n",
                "cursor = conn.cursor()"
            ]
        },
        {
            "cell_type": "code",
            "execution_count": 7,
            "metadata": {},
            "outputs": [
                {
                    "data": {
                        "text/plain": [
                            "4803"
                        ]
                    },
                    "execution_count": 7,
                    "metadata": {},
                    "output_type": "execute_result"
                }
            ],
            "source": [
                "# Creamos tabla de peliculas\n",
                "df_movies.to_sql('movies', conn, if_exists='replace', index=False)"
            ]
        },
        {
            "cell_type": "code",
            "execution_count": 8,
            "metadata": {},
            "outputs": [
                {
                    "data": {
                        "text/plain": [
                            "4803"
                        ]
                    },
                    "execution_count": 8,
                    "metadata": {},
                    "output_type": "execute_result"
                }
            ],
            "source": [
                "# Creamos tabla de creditos\n",
                "df_credits.to_sql('credits', conn, if_exists='replace', index=False)"
            ]
        },
        {
            "cell_type": "code",
            "execution_count": 9,
            "metadata": {},
            "outputs": [
                {
                    "name": "stdout",
                    "output_type": "stream",
                    "text": [
                        "(0, 'Unnamed: 0', 'INTEGER', 0, None, 0)\n",
                        "(1, 'budget', 'INTEGER', 0, None, 0)\n",
                        "(2, 'genres', 'TEXT', 0, None, 0)\n",
                        "(3, 'homepage', 'TEXT', 0, None, 0)\n",
                        "(4, 'id', 'INTEGER', 0, None, 0)\n",
                        "(5, 'keywords', 'TEXT', 0, None, 0)\n",
                        "(6, 'original_language', 'TEXT', 0, None, 0)\n",
                        "(7, 'original_title', 'TEXT', 0, None, 0)\n",
                        "(8, 'overview', 'TEXT', 0, None, 0)\n",
                        "(9, 'popularity', 'REAL', 0, None, 0)\n",
                        "(10, 'production_companies', 'TEXT', 0, None, 0)\n",
                        "(11, 'production_countries', 'TEXT', 0, None, 0)\n",
                        "(12, 'release_date', 'TEXT', 0, None, 0)\n",
                        "(13, 'revenue', 'INTEGER', 0, None, 0)\n",
                        "(14, 'runtime', 'REAL', 0, None, 0)\n",
                        "(15, 'spoken_languages', 'TEXT', 0, None, 0)\n",
                        "(16, 'status', 'TEXT', 0, None, 0)\n",
                        "(17, 'tagline', 'TEXT', 0, None, 0)\n",
                        "(18, 'title', 'TEXT', 0, None, 0)\n",
                        "(19, 'vote_average', 'REAL', 0, None, 0)\n",
                        "(20, 'vote_count', 'INTEGER', 0, None, 0)\n"
                    ]
                }
            ],
            "source": [
                "# Ejecutamos la instruccion pragma para obtener datos de la tabla movies\n",
                "cursor.execute('PRAGMA table_info(movies)')\n",
                "columns = cursor.fetchall()\n",
                "for col in columns:\n",
                "    print(col)"
            ]
        },
        {
            "cell_type": "code",
            "execution_count": 10,
            "metadata": {},
            "outputs": [
                {
                    "name": "stdout",
                    "output_type": "stream",
                    "text": [
                        "(0, 'Unnamed: 0', 'INTEGER', 0, None, 0)\n",
                        "(1, 'movie_id', 'INTEGER', 0, None, 0)\n",
                        "(2, 'title', 'TEXT', 0, None, 0)\n",
                        "(3, 'cast', 'TEXT', 0, None, 0)\n",
                        "(4, 'crew', 'TEXT', 0, None, 0)\n"
                    ]
                }
            ],
            "source": [
                "# De nuevo ejecutamos la instruccion pragma para obtener datos, esta vez de la tabla de la tabla movies\n",
                "cursor.execute('PRAGMA table_info(credits)')\n",
                "columns = cursor.fetchall()\n",
                "for col in columns:\n",
                "    print(col)"
            ]
        },
        {
            "cell_type": "code",
            "execution_count": 11,
            "metadata": {},
            "outputs": [],
            "source": [
                "# Realizar la unión de las tablas con los datos solicitados en el enunciado\n",
                "# y crear una nueva tabla con el resultado\n",
                "join_query = '''\n",
                "CREATE TABLE IF NOT EXISTS unified  AS\n",
                "SELECT m.id, m.title, m.overview, m.genres, m.keywords, c.cast, c.crew\n",
                "FROM movies m\n",
                "JOIN credits c ON m.title = c.title\n",
                "'''\n",
                "\n",
                "cursor.execute(join_query)\n",
                "conn.commit()\n"
            ]
        },
        {
            "cell_type": "code",
            "execution_count": 12,
            "metadata": {},
            "outputs": [
                {
                    "data": {
                        "text/html": [
                            "<div>\n",
                            "<style scoped>\n",
                            "    .dataframe tbody tr th:only-of-type {\n",
                            "        vertical-align: middle;\n",
                            "    }\n",
                            "\n",
                            "    .dataframe tbody tr th {\n",
                            "        vertical-align: top;\n",
                            "    }\n",
                            "\n",
                            "    .dataframe thead th {\n",
                            "        text-align: right;\n",
                            "    }\n",
                            "</style>\n",
                            "<table border=\"1\" class=\"dataframe\">\n",
                            "  <thead>\n",
                            "    <tr style=\"text-align: right;\">\n",
                            "      <th></th>\n",
                            "      <th>id</th>\n",
                            "      <th>title</th>\n",
                            "      <th>overview</th>\n",
                            "      <th>genres</th>\n",
                            "      <th>keywords</th>\n",
                            "      <th>cast</th>\n",
                            "      <th>crew</th>\n",
                            "    </tr>\n",
                            "  </thead>\n",
                            "  <tbody>\n",
                            "    <tr>\n",
                            "      <th>0</th>\n",
                            "      <td>19995</td>\n",
                            "      <td>Avatar</td>\n",
                            "      <td>In the 22nd century, a paraplegic Marine is di...</td>\n",
                            "      <td>[{\"id\": 28, \"name\": \"Action\"}, {\"id\": 12, \"nam...</td>\n",
                            "      <td>[{\"id\": 1463, \"name\": \"culture clash\"}, {\"id\":...</td>\n",
                            "      <td>[{\"cast_id\": 242, \"character\": \"Jake Sully\", \"...</td>\n",
                            "      <td>[{\"credit_id\": \"52fe48009251416c750aca23\", \"de...</td>\n",
                            "    </tr>\n",
                            "    <tr>\n",
                            "      <th>1</th>\n",
                            "      <td>285</td>\n",
                            "      <td>Pirates of the Caribbean: At World's End</td>\n",
                            "      <td>Captain Barbossa, long believed to be dead, ha...</td>\n",
                            "      <td>[{\"id\": 12, \"name\": \"Adventure\"}, {\"id\": 14, \"...</td>\n",
                            "      <td>[{\"id\": 270, \"name\": \"ocean\"}, {\"id\": 726, \"na...</td>\n",
                            "      <td>[{\"cast_id\": 4, \"character\": \"Captain Jack Spa...</td>\n",
                            "      <td>[{\"credit_id\": \"52fe4232c3a36847f800b579\", \"de...</td>\n",
                            "    </tr>\n",
                            "    <tr>\n",
                            "      <th>2</th>\n",
                            "      <td>206647</td>\n",
                            "      <td>Spectre</td>\n",
                            "      <td>A cryptic message from Bond’s past sends him o...</td>\n",
                            "      <td>[{\"id\": 28, \"name\": \"Action\"}, {\"id\": 12, \"nam...</td>\n",
                            "      <td>[{\"id\": 470, \"name\": \"spy\"}, {\"id\": 818, \"name...</td>\n",
                            "      <td>[{\"cast_id\": 1, \"character\": \"James Bond\", \"cr...</td>\n",
                            "      <td>[{\"credit_id\": \"54805967c3a36829b5002c41\", \"de...</td>\n",
                            "    </tr>\n",
                            "  </tbody>\n",
                            "</table>\n",
                            "</div>"
                        ],
                        "text/plain": [
                            "       id                                     title  \\\n",
                            "0   19995                                    Avatar   \n",
                            "1     285  Pirates of the Caribbean: At World's End   \n",
                            "2  206647                                   Spectre   \n",
                            "\n",
                            "                                            overview  \\\n",
                            "0  In the 22nd century, a paraplegic Marine is di...   \n",
                            "1  Captain Barbossa, long believed to be dead, ha...   \n",
                            "2  A cryptic message from Bond’s past sends him o...   \n",
                            "\n",
                            "                                              genres  \\\n",
                            "0  [{\"id\": 28, \"name\": \"Action\"}, {\"id\": 12, \"nam...   \n",
                            "1  [{\"id\": 12, \"name\": \"Adventure\"}, {\"id\": 14, \"...   \n",
                            "2  [{\"id\": 28, \"name\": \"Action\"}, {\"id\": 12, \"nam...   \n",
                            "\n",
                            "                                            keywords  \\\n",
                            "0  [{\"id\": 1463, \"name\": \"culture clash\"}, {\"id\":...   \n",
                            "1  [{\"id\": 270, \"name\": \"ocean\"}, {\"id\": 726, \"na...   \n",
                            "2  [{\"id\": 470, \"name\": \"spy\"}, {\"id\": 818, \"name...   \n",
                            "\n",
                            "                                                cast  \\\n",
                            "0  [{\"cast_id\": 242, \"character\": \"Jake Sully\", \"...   \n",
                            "1  [{\"cast_id\": 4, \"character\": \"Captain Jack Spa...   \n",
                            "2  [{\"cast_id\": 1, \"character\": \"James Bond\", \"cr...   \n",
                            "\n",
                            "                                                crew  \n",
                            "0  [{\"credit_id\": \"52fe48009251416c750aca23\", \"de...  \n",
                            "1  [{\"credit_id\": \"52fe4232c3a36847f800b579\", \"de...  \n",
                            "2  [{\"credit_id\": \"54805967c3a36829b5002c41\", \"de...  "
                        ]
                    },
                    "metadata": {},
                    "output_type": "display_data"
                }
            ],
            "source": [
                "# importamos la tabla recien creada como dataframe\n",
                "df = pd.read_sql_query('SELECT * FROM unified', conn)\n",
                "display(df.head(3))"
            ]
        },
        {
            "cell_type": "markdown",
            "metadata": {},
            "source": [
                "                            ---Tratamiento de los objetos json---"
            ]
        },
        {
            "cell_type": "code",
            "execution_count": 13,
            "metadata": {},
            "outputs": [],
            "source": [
                "# Definimos funcion para convertir json a string en toda la columna\n",
                "def json_to_string(dataframe, column, term):\n",
                "    # importamos json para lectura de este formato\n",
                "    import json\n",
                "    # Lista vacia en la que se almacenan los resultados convertidos\n",
                "    column_list = []\n",
                "    # El bucle itera sobre cada fila de la  columna\n",
                "    for index, row in dataframe.iterrows():\n",
                "        # Lista vacia para almaacenar los datos de cada fila\n",
                "        row_data = []\n",
                "        # Verificar que no es nula o vacia \n",
                "        if row[column] and row[column] != '':\n",
                "            # Carga el elemento json de esa fila\n",
                "            list_ = json.loads(row[column])\n",
                "            # itera sobre los diccionarios obtenidos despues de cargar el objeto json y..\n",
                "            for dic in list_:\n",
                "                #..extrae un termino especifico y lo añade a la lista vacia row_data\n",
                "                row_data.append(dic[term])\n",
                "            # este ultimo bucle for itera sobre la lista temporal row_data para eliminar comas y espacios\n",
                "            for i in range(len(row_data)):\n",
                "                row_data[i] = row_data[i].replace(',', '').replace(' ', '')\n",
                "            # Se añade ese valor ya formateado a la lista final\n",
                "            column_list.append(' '.join(row_data))\n",
                "    # La funcion devuelve la lista final\n",
                "    return column_list"
            ]
        },
        {
            "cell_type": "code",
            "execution_count": 14,
            "metadata": {},
            "outputs": [],
            "source": [
                "# Llamamos a la fucnion anterior para formatear las columnas necesarias\n",
                "df['genres'] = json_to_string(df, 'genres', 'name')\n",
                "df['keywords'] = json_to_string(df, 'keywords', 'name')"
            ]
        },
        {
            "cell_type": "code",
            "execution_count": 15,
            "metadata": {},
            "outputs": [],
            "source": [
                "# Definimos bucle for para extraer el valor \"director\" de la clumna 'cast'\n",
                "import json\n",
                "\n",
                "# Creamos una lista vacía para almacenar los resultados\n",
                "directors = []\n",
                "# para cada dato en la columna..\n",
                "for list_str in df['crew']:\n",
                "    # Convertir cadena json en una lista de diccionarios\n",
                "    list_ = json.loads(list_str)\n",
                "    # Variable que almacena el nombre del direfctor\n",
                "    director = ''\n",
                "    # recorremos cada diccionario obtenido al leer el objeto json..\n",
                "    for dic in list_:\n",
                "        # ..y si la clave de job es Director\n",
                "        if dic['job'] == 'Director':\n",
                "            # cogemos el valor de la clave 'name' y eliminamos comas y espacios \n",
                "            director = dic['name'].replace(',', '').replace(' ', '')\n",
                "    # Finalmente añadimos a la lista directors        \n",
                "    directors.append(''.join(director))"
            ]
        },
        {
            "cell_type": "code",
            "execution_count": 16,
            "metadata": {},
            "outputs": [],
            "source": [
                "# Creamos columna con el nombre del director\n",
                "df['director'] = directors"
            ]
        },
        {
            "cell_type": "code",
            "execution_count": 17,
            "metadata": {},
            "outputs": [
                {
                    "data": {
                        "text/plain": [
                            "'[{\"cast_id\": 242, \"character\": \"Jake Sully\", \"credit_id\": \"5602a8a7c3a3685532001c9a\", \"gender\": 2, \"id\": 65731, \"name\": \"Sam Worthington\", \"order\": 0}, {\"cast_id\": 3, \"character\": \"Neytiri\", \"credit_id\": \"52fe48009251416c750ac9cb\", \"gender\": 1, \"id\": 8691, \"name\": \"Zoe Saldana\", \"order\": 1}, {\"cast_id\": 25, \"character\": \"Dr. Grace Augustine\", \"credit_id\": \"52fe48009251416c750aca39\", \"gender\": 1, \"id\": 10205, \"name\": \"Sigourney Weaver\", \"order\": 2}, {\"cast_id\": 4, \"character\": \"Col. Quaritch\", \"credit_id\": \"52fe48009251416c750ac9cf\", \"gender\": 2, \"id\": 32747, \"name\": \"Stephen Lang\", \"order\": 3}, {\"cast_id\": 5, \"character\": \"Trudy Chacon\", \"credit_id\": \"52fe48009251416c750ac9d3\", \"gender\": 1, \"id\": 17647, \"name\": \"Michelle Rodriguez\", \"order\": 4}, {\"cast_id\": 8, \"character\": \"Selfridge\", \"credit_id\": \"52fe48009251416c750ac9e1\", \"gender\": 2, \"id\": 1771, \"name\": \"Giovanni Ribisi\", \"order\": 5}, {\"cast_id\": 7, \"character\": \"Norm Spellman\", \"credit_id\": \"52fe48009251416c750ac9dd\", \"gender\": 2, \"id\": 59231, \"name\": \"Joel David Moore\", \"order\": 6}, {\"cast_id\": 9, \"character\": \"Moat\", \"credit_id\": \"52fe48009251416c750ac9e5\", \"gender\": 1, \"id\": 30485, \"name\": \"CCH Pounder\", \"order\": 7}, {\"cast_id\": 11, \"character\": \"Eytukan\", \"credit_id\": \"52fe48009251416c750ac9ed\", \"gender\": 2, \"id\": 15853, \"name\": \"Wes Studi\", \"order\": 8}, {\"cast_id\": 10, \"character\": \"Tsu\\'Tey\", \"credit_id\": \"52fe48009251416c750ac9e9\", \"gender\": 2, \"id\": 10964, \"name\": \"Laz Alonso\", \"order\": 9}, {\"cast_id\": 12, \"character\": \"Dr. Max Patel\", \"credit_id\": \"52fe48009251416c750ac9f1\", \"gender\": 2, \"id\": 95697, \"name\": \"Dileep Rao\", \"order\": 10}, {\"cast_id\": 13, \"character\": \"Lyle Wainfleet\", \"credit_id\": \"52fe48009251416c750ac9f5\", \"gender\": 2, \"id\": 98215, \"name\": \"Matt Gerald\", \"order\": 11}, {\"cast_id\": 32, \"character\": \"Private Fike\", \"credit_id\": \"52fe48009251416c750aca5b\", \"gender\": 2, \"id\": 154153, \"name\": \"Sean Anthony Moran\", \"order\": 12}, {\"cast_id\": 33, \"character\": \"Cryo Vault Med Tech\", \"credit_id\": \"52fe48009251416c750aca5f\", \"gender\": 2, \"id\": 397312, \"name\": \"Jason Whyte\", \"order\": 13}, {\"cast_id\": 34, \"character\": \"Venture Star Crew Chief\", \"credit_id\": \"52fe48009251416c750aca63\", \"gender\": 2, \"id\": 42317, \"name\": \"Scott Lawrence\", \"order\": 14}, {\"cast_id\": 35, \"character\": \"Lock Up Trooper\", \"credit_id\": \"52fe48009251416c750aca67\", \"gender\": 2, \"id\": 986734, \"name\": \"Kelly Kilgour\", \"order\": 15}, {\"cast_id\": 36, \"character\": \"Shuttle Pilot\", \"credit_id\": \"52fe48009251416c750aca6b\", \"gender\": 0, \"id\": 1207227, \"name\": \"James Patrick Pitt\", \"order\": 16}, {\"cast_id\": 37, \"character\": \"Shuttle Co-Pilot\", \"credit_id\": \"52fe48009251416c750aca6f\", \"gender\": 0, \"id\": 1180936, \"name\": \"Sean Patrick Murphy\", \"order\": 17}, {\"cast_id\": 38, \"character\": \"Shuttle Crew Chief\", \"credit_id\": \"52fe48009251416c750aca73\", \"gender\": 2, \"id\": 1019578, \"name\": \"Peter Dillon\", \"order\": 18}, {\"cast_id\": 39, \"character\": \"Tractor Operator / Troupe\", \"credit_id\": \"52fe48009251416c750aca77\", \"gender\": 0, \"id\": 91443, \"name\": \"Kevin Dorman\", \"order\": 19}, {\"cast_id\": 40, \"character\": \"Dragon Gunship Pilot\", \"credit_id\": \"52fe48009251416c750aca7b\", \"gender\": 2, \"id\": 173391, \"name\": \"Kelson Henderson\", \"order\": 20}, {\"cast_id\": 41, \"character\": \"Dragon Gunship Gunner\", \"credit_id\": \"52fe48009251416c750aca7f\", \"gender\": 0, \"id\": 1207236, \"name\": \"David Van Horn\", \"order\": 21}, {\"cast_id\": 42, \"character\": \"Dragon Gunship Navigator\", \"credit_id\": \"52fe48009251416c750aca83\", \"gender\": 0, \"id\": 215913, \"name\": \"Jacob Tomuri\", \"order\": 22}, {\"cast_id\": 43, \"character\": \"Suit #1\", \"credit_id\": \"52fe48009251416c750aca87\", \"gender\": 0, \"id\": 143206, \"name\": \"Michael Blain-Rozgay\", \"order\": 23}, {\"cast_id\": 44, \"character\": \"Suit #2\", \"credit_id\": \"52fe48009251416c750aca8b\", \"gender\": 2, \"id\": 169676, \"name\": \"Jon Curry\", \"order\": 24}, {\"cast_id\": 46, \"character\": \"Ambient Room Tech\", \"credit_id\": \"52fe48009251416c750aca8f\", \"gender\": 0, \"id\": 1048610, \"name\": \"Luke Hawker\", \"order\": 25}, {\"cast_id\": 47, \"character\": \"Ambient Room Tech / Troupe\", \"credit_id\": \"52fe48009251416c750aca93\", \"gender\": 0, \"id\": 42288, \"name\": \"Woody Schultz\", \"order\": 26}, {\"cast_id\": 48, \"character\": \"Horse Clan Leader\", \"credit_id\": \"52fe48009251416c750aca97\", \"gender\": 2, \"id\": 68278, \"name\": \"Peter Mensah\", \"order\": 27}, {\"cast_id\": 49, \"character\": \"Link Room Tech\", \"credit_id\": \"52fe48009251416c750aca9b\", \"gender\": 0, \"id\": 1207247, \"name\": \"Sonia Yee\", \"order\": 28}, {\"cast_id\": 50, \"character\": \"Basketball Avatar / Troupe\", \"credit_id\": \"52fe48009251416c750aca9f\", \"gender\": 1, \"id\": 1207248, \"name\": \"Jahnel Curfman\", \"order\": 29}, {\"cast_id\": 51, \"character\": \"Basketball Avatar\", \"credit_id\": \"52fe48009251416c750acaa3\", \"gender\": 0, \"id\": 89714, \"name\": \"Ilram Choi\", \"order\": 30}, {\"cast_id\": 52, \"character\": \"Na\\'vi Child\", \"credit_id\": \"52fe48009251416c750acaa7\", \"gender\": 0, \"id\": 1207249, \"name\": \"Kyla Warren\", \"order\": 31}, {\"cast_id\": 53, \"character\": \"Troupe\", \"credit_id\": \"52fe48009251416c750acaab\", \"gender\": 0, \"id\": 1207250, \"name\": \"Lisa Roumain\", \"order\": 32}, {\"cast_id\": 54, \"character\": \"Troupe\", \"credit_id\": \"52fe48009251416c750acaaf\", \"gender\": 1, \"id\": 83105, \"name\": \"Debra Wilson\", \"order\": 33}, {\"cast_id\": 57, \"character\": \"Troupe\", \"credit_id\": \"52fe48009251416c750acabb\", \"gender\": 0, \"id\": 1207253, \"name\": \"Chris Mala\", \"order\": 34}, {\"cast_id\": 55, \"character\": \"Troupe\", \"credit_id\": \"52fe48009251416c750acab3\", \"gender\": 0, \"id\": 1207251, \"name\": \"Taylor Kibby\", \"order\": 35}, {\"cast_id\": 56, \"character\": \"Troupe\", \"credit_id\": \"52fe48009251416c750acab7\", \"gender\": 0, \"id\": 1207252, \"name\": \"Jodie Landau\", \"order\": 36}, {\"cast_id\": 58, \"character\": \"Troupe\", \"credit_id\": \"52fe48009251416c750acabf\", \"gender\": 0, \"id\": 1207254, \"name\": \"Julie Lamm\", \"order\": 37}, {\"cast_id\": 59, \"character\": \"Troupe\", \"credit_id\": \"52fe48009251416c750acac3\", \"gender\": 0, \"id\": 1207257, \"name\": \"Cullen B. Madden\", \"order\": 38}, {\"cast_id\": 60, \"character\": \"Troupe\", \"credit_id\": \"52fe48009251416c750acac7\", \"gender\": 0, \"id\": 1207259, \"name\": \"Joseph Brady Madden\", \"order\": 39}, {\"cast_id\": 61, \"character\": \"Troupe\", \"credit_id\": \"52fe48009251416c750acacb\", \"gender\": 0, \"id\": 1207262, \"name\": \"Frankie Torres\", \"order\": 40}, {\"cast_id\": 62, \"character\": \"Troupe\", \"credit_id\": \"52fe48009251416c750acacf\", \"gender\": 1, \"id\": 1158600, \"name\": \"Austin Wilson\", \"order\": 41}, {\"cast_id\": 63, \"character\": \"Troupe\", \"credit_id\": \"52fe48019251416c750acad3\", \"gender\": 1, \"id\": 983705, \"name\": \"Sara Wilson\", \"order\": 42}, {\"cast_id\": 64, \"character\": \"Troupe\", \"credit_id\": \"52fe48019251416c750acad7\", \"gender\": 0, \"id\": 1207263, \"name\": \"Tamica Washington-Miller\", \"order\": 43}, {\"cast_id\": 65, \"character\": \"Op Center Staff\", \"credit_id\": \"52fe48019251416c750acadb\", \"gender\": 1, \"id\": 1145098, \"name\": \"Lucy Briant\", \"order\": 44}, {\"cast_id\": 66, \"character\": \"Op Center Staff\", \"credit_id\": \"52fe48019251416c750acadf\", \"gender\": 2, \"id\": 33305, \"name\": \"Nathan Meister\", \"order\": 45}, {\"cast_id\": 67, \"character\": \"Op Center Staff\", \"credit_id\": \"52fe48019251416c750acae3\", \"gender\": 0, \"id\": 1207264, \"name\": \"Gerry Blair\", \"order\": 46}, {\"cast_id\": 68, \"character\": \"Op Center Staff\", \"credit_id\": \"52fe48019251416c750acae7\", \"gender\": 2, \"id\": 33311, \"name\": \"Matthew Chamberlain\", \"order\": 47}, {\"cast_id\": 69, \"character\": \"Op Center Staff\", \"credit_id\": \"52fe48019251416c750acaeb\", \"gender\": 0, \"id\": 1207265, \"name\": \"Paul Yates\", \"order\": 48}, {\"cast_id\": 70, \"character\": \"Op Center Duty Officer\", \"credit_id\": \"52fe48019251416c750acaef\", \"gender\": 0, \"id\": 1207266, \"name\": \"Wray Wilson\", \"order\": 49}, {\"cast_id\": 71, \"character\": \"Op Center Staff\", \"credit_id\": \"52fe48019251416c750acaf3\", \"gender\": 2, \"id\": 54492, \"name\": \"James Gaylyn\", \"order\": 50}, {\"cast_id\": 72, \"character\": \"Dancer\", \"credit_id\": \"52fe48019251416c750acaf7\", \"gender\": 0, \"id\": 1207267, \"name\": \"Melvin Leno Clark III\", \"order\": 51}, {\"cast_id\": 73, \"character\": \"Dancer\", \"credit_id\": \"52fe48019251416c750acafb\", \"gender\": 0, \"id\": 1207268, \"name\": \"Carvon Futrell\", \"order\": 52}, {\"cast_id\": 74, \"character\": \"Dancer\", \"credit_id\": \"52fe48019251416c750acaff\", \"gender\": 0, \"id\": 1207269, \"name\": \"Brandon Jelkes\", \"order\": 53}, {\"cast_id\": 75, \"character\": \"Dancer\", \"credit_id\": \"52fe48019251416c750acb03\", \"gender\": 0, \"id\": 1207270, \"name\": \"Micah Moch\", \"order\": 54}, {\"cast_id\": 76, \"character\": \"Dancer\", \"credit_id\": \"52fe48019251416c750acb07\", \"gender\": 0, \"id\": 1207271, \"name\": \"Hanniyah Muhammad\", \"order\": 55}, {\"cast_id\": 77, \"character\": \"Dancer\", \"credit_id\": \"52fe48019251416c750acb0b\", \"gender\": 0, \"id\": 1207272, \"name\": \"Christopher Nolen\", \"order\": 56}, {\"cast_id\": 78, \"character\": \"Dancer\", \"credit_id\": \"52fe48019251416c750acb0f\", \"gender\": 0, \"id\": 1207273, \"name\": \"Christa Oliver\", \"order\": 57}, {\"cast_id\": 79, \"character\": \"Dancer\", \"credit_id\": \"52fe48019251416c750acb13\", \"gender\": 0, \"id\": 1207274, \"name\": \"April Marie Thomas\", \"order\": 58}, {\"cast_id\": 80, \"character\": \"Dancer\", \"credit_id\": \"52fe48019251416c750acb17\", \"gender\": 0, \"id\": 1207275, \"name\": \"Bravita A. Threatt\", \"order\": 59}, {\"cast_id\": 81, \"character\": \"Mining Chief (uncredited)\", \"credit_id\": \"52fe48019251416c750acb1b\", \"gender\": 0, \"id\": 1207276, \"name\": \"Colin Bleasdale\", \"order\": 60}, {\"cast_id\": 82, \"character\": \"Veteran Miner (uncredited)\", \"credit_id\": \"52fe48019251416c750acb1f\", \"gender\": 0, \"id\": 107969, \"name\": \"Mike Bodnar\", \"order\": 61}, {\"cast_id\": 83, \"character\": \"Richard (uncredited)\", \"credit_id\": \"52fe48019251416c750acb23\", \"gender\": 0, \"id\": 1207278, \"name\": \"Matt Clayton\", \"order\": 62}, {\"cast_id\": 84, \"character\": \"Nav\\'i (uncredited)\", \"credit_id\": \"52fe48019251416c750acb27\", \"gender\": 1, \"id\": 147898, \"name\": \"Nicole Dionne\", \"order\": 63}, {\"cast_id\": 85, \"character\": \"Trooper (uncredited)\", \"credit_id\": \"52fe48019251416c750acb2b\", \"gender\": 0, \"id\": 1207280, \"name\": \"Jamie Harrison\", \"order\": 64}, {\"cast_id\": 86, \"character\": \"Trooper (uncredited)\", \"credit_id\": \"52fe48019251416c750acb2f\", \"gender\": 0, \"id\": 1207281, \"name\": \"Allan Henry\", \"order\": 65}, {\"cast_id\": 87, \"character\": \"Ground Technician (uncredited)\", \"credit_id\": \"52fe48019251416c750acb33\", \"gender\": 2, \"id\": 1207282, \"name\": \"Anthony Ingruber\", \"order\": 66}, {\"cast_id\": 88, \"character\": \"Flight Crew Mechanic (uncredited)\", \"credit_id\": \"52fe48019251416c750acb37\", \"gender\": 0, \"id\": 1207283, \"name\": \"Ashley Jeffery\", \"order\": 67}, {\"cast_id\": 14, \"character\": \"Samson Pilot\", \"credit_id\": \"52fe48009251416c750ac9f9\", \"gender\": 0, \"id\": 98216, \"name\": \"Dean Knowsley\", \"order\": 68}, {\"cast_id\": 89, \"character\": \"Trooper (uncredited)\", \"credit_id\": \"52fe48019251416c750acb3b\", \"gender\": 0, \"id\": 1201399, \"name\": \"Joseph Mika-Hunt\", \"order\": 69}, {\"cast_id\": 90, \"character\": \"Banshee (uncredited)\", \"credit_id\": \"52fe48019251416c750acb3f\", \"gender\": 0, \"id\": 236696, \"name\": \"Terry Notary\", \"order\": 70}, {\"cast_id\": 91, \"character\": \"Soldier (uncredited)\", \"credit_id\": \"52fe48019251416c750acb43\", \"gender\": 0, \"id\": 1207287, \"name\": \"Kai Pantano\", \"order\": 71}, {\"cast_id\": 92, \"character\": \"Blast Technician (uncredited)\", \"credit_id\": \"52fe48019251416c750acb47\", \"gender\": 0, \"id\": 1207288, \"name\": \"Logan Pithyou\", \"order\": 72}, {\"cast_id\": 93, \"character\": \"Vindum Raah (uncredited)\", \"credit_id\": \"52fe48019251416c750acb4b\", \"gender\": 0, \"id\": 1207289, \"name\": \"Stuart Pollock\", \"order\": 73}, {\"cast_id\": 94, \"character\": \"Hero (uncredited)\", \"credit_id\": \"52fe48019251416c750acb4f\", \"gender\": 0, \"id\": 584868, \"name\": \"Raja\", \"order\": 74}, {\"cast_id\": 95, \"character\": \"Ops Centreworker (uncredited)\", \"credit_id\": \"52fe48019251416c750acb53\", \"gender\": 0, \"id\": 1207290, \"name\": \"Gareth Ruck\", \"order\": 75}, {\"cast_id\": 96, \"character\": \"Engineer (uncredited)\", \"credit_id\": \"52fe48019251416c750acb57\", \"gender\": 0, \"id\": 1062463, \"name\": \"Rhian Sheehan\", \"order\": 76}, {\"cast_id\": 97, \"character\": \"Col. Quaritch\\'s Mech Suit (uncredited)\", \"credit_id\": \"52fe48019251416c750acb5b\", \"gender\": 0, \"id\": 60656, \"name\": \"T. J. Storm\", \"order\": 77}, {\"cast_id\": 98, \"character\": \"Female Marine (uncredited)\", \"credit_id\": \"52fe48019251416c750acb5f\", \"gender\": 0, \"id\": 1207291, \"name\": \"Jodie Taylor\", \"order\": 78}, {\"cast_id\": 99, \"character\": \"Ikran Clan Leader (uncredited)\", \"credit_id\": \"52fe48019251416c750acb63\", \"gender\": 1, \"id\": 1186027, \"name\": \"Alicia Vela-Bailey\", \"order\": 79}, {\"cast_id\": 100, \"character\": \"Geologist (uncredited)\", \"credit_id\": \"52fe48019251416c750acb67\", \"gender\": 0, \"id\": 1207292, \"name\": \"Richard Whiteside\", \"order\": 80}, {\"cast_id\": 101, \"character\": \"Na\\'vi (uncredited)\", \"credit_id\": \"52fe48019251416c750acb6b\", \"gender\": 0, \"id\": 103259, \"name\": \"Nikie Zambo\", \"order\": 81}, {\"cast_id\": 102, \"character\": \"Ambient Room Tech / Troupe\", \"credit_id\": \"52fe48019251416c750acb6f\", \"gender\": 1, \"id\": 42286, \"name\": \"Julene Renee\", \"order\": 82}]'"
                        ]
                    },
                    "metadata": {},
                    "output_type": "display_data"
                }
            ],
            "source": [
                "# Muestro cast para ver la estructura \n",
                "display(df['cast'][0])"
            ]
        },
        {
            "cell_type": "code",
            "execution_count": 173,
            "metadata": {},
            "outputs": [],
            "source": [
                "import json\n",
                "# Bucle para obtener los tres primeros miembros del casting\n",
                "cast_list = []\n",
                "for list_str in df['cast']:\n",
                "    row_list = []\n",
                "    list_ = json.loads(list_str)\n",
                "    for dic in list_[:3]:\n",
                "        row_list.append(dic['name'].replace(' ', '').replace(',', '').replace('. ', ''))\n",
                "    cast_list.append(' '.join(row_list))"
            ]
        },
        {
            "cell_type": "markdown",
            "metadata": {},
            "source": [
                "                            --- Terminamos con los objetos json ---"
            ]
        },
        {
            "cell_type": "code",
            "execution_count": 174,
            "metadata": {},
            "outputs": [],
            "source": [
                "# definbimnos la columna cast y eliminamos la columna crew\n",
                "\n",
                "df['cast'] = cast_list\n",
                "\n",
                "df.drop('crew', axis=1, inplace=True)"
            ]
        },
        {
            "cell_type": "code",
            "execution_count": 176,
            "metadata": {},
            "outputs": [],
            "source": [
                "# Finalmente, como especifica el enunciado, creamos un dataframe con una unica columna que une todos los datos relevantes\n",
                "df_final = pd.DataFrame()\n",
                "df_final['tags'] = df['overview'] + ' ' + df['genres'] + ' ' + df['keywords'] + ' ' + df['cast'] + ' ' + df['director']\n"
            ]
        },
        {
            "cell_type": "code",
            "execution_count": 177,
            "metadata": {},
            "outputs": [
                {
                    "name": "stdout",
                    "output_type": "stream",
                    "text": [
                        "In the 22nd century, a paraplegic Marine is dispatched to the moon Pandora on a unique mission, but becomes torn between following orders and protecting an alien civilization. Action Adventure Fantasy ScienceFiction cultureclash future spacewar spacecolony society spacetravel futuristic romance space alien tribe alienplanet cgi marine soldier battle loveaffair antiwar powerrelations mindandsoul 3d SamWorthington ZoeSaldana SigourneyWeaver JamesCameron\n",
                        "Captain Barbossa, long believed to be dead, has come back to life and is headed to the edge of the Earth with Will Turner and Elizabeth Swann. But nothing is quite as it seems. Adventure Fantasy Action ocean drugabuse exoticisland eastindiatradingcompany loveofone'slife traitor shipwreck strongwoman ship alliance calypso afterlife fighter pirate swashbuckler aftercreditsstinger JohnnyDepp OrlandoBloom KeiraKnightley GoreVerbinski\n"
                    ]
                }
            ],
            "source": [
                "# Muestra de las dos primeras filas para ver el resultado\n",
                "for tag in df_final['tags'][:2]:\n",
                "    print(tag)    "
            ]
        },
        {
            "cell_type": "code",
            "execution_count": 178,
            "metadata": {},
            "outputs": [
                {
                    "name": "stdout",
                    "output_type": "stream",
                    "text": [
                        "<class 'pandas.core.frame.DataFrame'>\n",
                        "RangeIndex: 4809 entries, 0 to 4808\n",
                        "Data columns (total 1 columns):\n",
                        " #   Column  Non-Null Count  Dtype \n",
                        "---  ------  --------------  ----- \n",
                        " 0   tags    4809 non-null   object\n",
                        "dtypes: object(1)\n",
                        "memory usage: 37.7+ KB\n"
                    ]
                }
            ],
            "source": [
                "# Eliminamos comas y puntos de todo el dataframe y nos aseguramos de que todo esta en forma de string y que conservamos todos los datos\n",
                "df_final['tags'] = df_final['tags'].apply(lambda x: str(x).replace(',', '').replace('.', ''))\n",
                "df_final['tags'] = df_final['tags'].astype(str)\n",
                "df_final.info()"
            ]
        },
        {
            "cell_type": "markdown",
            "metadata": {},
            "source": [
                "---"
            ]
        },
        {
            "cell_type": "markdown",
            "metadata": {},
            "source": [
                "VECTORIZACION Y MATRIZ DE SIMILITUD|\n",
                "--"
            ]
        },
        {
            "cell_type": "code",
            "execution_count": 179,
            "metadata": {},
            "outputs": [],
            "source": [
                "# Crear una instancia de VECTORIZADOR\n",
                "vectorizer = TfidfVectorizer()\n",
                "\n",
                "# Ajustar el vectorizador al texto y transformar el texto en vectores\n",
                "vectors = vectorizer.fit_transform(df_final['tags'])"
            ]
        },
        {
            "cell_type": "code",
            "execution_count": 180,
            "metadata": {},
            "outputs": [],
            "source": [
                "# Crear matriz de similitud\n",
                "similarity = cosine_similarity(vectors)"
            ]
        },
        {
            "cell_type": "markdown",
            "metadata": {},
            "source": [
                "---"
            ]
        },
        {
            "cell_type": "markdown",
            "metadata": {},
            "source": [
                "FUNCION PARA CONSULTAS|\n",
                "--\n",
                "\n",
                "(EN BASE A ELLA SE HARA LA PRACTICA DE STREAMLIT)\n"
            ]
        },
        {
            "cell_type": "code",
            "execution_count": 193,
            "metadata": {},
            "outputs": [],
            "source": [
                "def recommend(titulo_parcial):\n",
                "    # Convertimos el input a minúsculas\n",
                "    titulo_parcial = titulo_parcial.lower()\n",
                "    # Buscamos coincidencias parciales en los títulos.\n",
                "    titles = df['title'].str.lower()\n",
                "    coincidencias = titles[titles.str.contains(titulo_parcial)]\n",
                "    # Definimos lo que ocurre si se encuentran coincidencias con el titulo\n",
                "    if not coincidencias.empty:\n",
                "        print(f\"Hay {len(coincidencias)} películas que contienen '{titulo_parcial}':\")\n",
                "        # Para cada indice de las coincidencias encontradas\n",
                "        for movie_index in coincidencias.index:\n",
                "            # Extrae las distancias (similitudes) de cada película encontrada.\n",
                "            distances = similarity[movie_index]\n",
                "            # generamos una lista con las 5 peliculas mas parecidas eliminando la primera que es ella misma\n",
                "            movie_list = sorted(list(enumerate(distances)), reverse=True, key=lambda x: x[1])[1:6]\n",
                "            # imprimimos el resultado // df.loc encuentra el titulo en el dataframe original en base al indice generado con movie_index\n",
                "            print(f\"\\nRecomendaciones basadas en '{df.loc[movie_index, 'title']}':\")\n",
                "            # Imprime los títulos de las películas más similares.\n",
                "            for i in movie_list:\n",
                "                print(df.iloc[i[0]]['title'])\n",
                "    else:\n",
                "        print(f\"La película '{titulo_parcial}' no se encuentra en nuestro directorio.\")\n"
            ]
        },
        {
            "cell_type": "markdown",
            "metadata": {},
            "source": [
                "EJEMPLO DE USO|\n",
                "--"
            ]
        },
        {
            "cell_type": "code",
            "execution_count": 196,
            "metadata": {},
            "outputs": [
                {
                    "name": "stdout",
                    "output_type": "stream",
                    "text": [
                        "Hay 10 películas que contienen 'when':\n",
                        "\n",
                        "Recomendaciones basadas en 'What to Expect When You're Expecting':\n",
                        "Mother and Child\n",
                        "L!fe Happens\n",
                        "You Will Meet a Tall Dark Stranger\n",
                        "I Don't Know How She Does It\n",
                        "About Schmidt\n",
                        "\n",
                        "Recomendaciones basadas en 'Ace Ventura: When Nature Calls':\n",
                        "Rapa Nui\n",
                        "Sinbad: Legend of the Seven Seas\n",
                        "The Golden Child\n",
                        "Princess Mononoke\n",
                        "Caravans\n",
                        "\n",
                        "Recomendaciones basadas en 'Dumb and Dumberer: When Harry Met Lloyd':\n",
                        "Dogtown and Z-Boys\n",
                        "Lords of Dogtown\n",
                        "Recess: School's Out\n",
                        "Back to the Future Part II\n",
                        "Harry Potter and the Philosopher's Stone\n",
                        "\n",
                        "Recomendaciones basadas en 'When Harry Met Sally...':\n",
                        "The Story of Us\n",
                        "The Weather Man\n",
                        "Sex Tape\n",
                        "Celeste & Jesse Forever\n",
                        "A Lot Like Love\n",
                        "\n",
                        "Recomendaciones basadas en 'When a Stranger Calls':\n",
                        "Mighty Joe Young\n",
                        "Jack and Jill\n",
                        "Scream 4\n",
                        "Phone Booth\n",
                        "The Whole Ten Yards\n",
                        "\n",
                        "Recomendaciones basadas en 'When the Game Stands Tall':\n",
                        "We Are Marshall\n",
                        "Coach Carter\n",
                        "The Slaughter Rule\n",
                        "Remember the Titans\n",
                        "The 5th Quarter\n",
                        "\n",
                        "Recomendaciones basadas en 'Things to Do in Denver When You're Dead':\n",
                        "Run All Night\n",
                        "Mickey Blue Eyes\n",
                        "GoodFellas\n",
                        "We Own the Night\n",
                        "Sexy Beast\n",
                        "\n",
                        "Recomendaciones basadas en 'When Did You Last See Your Father?':\n",
                        "The Barbarian Invasions\n",
                        "John Q\n",
                        "Cat on a Hot Tin Roof\n",
                        "Nicholas Nickleby\n",
                        "Departure\n",
                        "\n",
                        "Recomendaciones basadas en 'When the Cat's Away':\n",
                        "Beverly Hills Chihuahua\n",
                        "Two Evil Eyes\n",
                        "The Cat in the Hat\n",
                        "Being Julia\n",
                        "Go for It!\n",
                        "\n",
                        "Recomendaciones basadas en 'When the Lights Went Out':\n",
                        "I Want Your Money\n",
                        "Beauty Shop\n",
                        "Darkness\n",
                        "Hidden Away\n",
                        "The Best Years of Our Lives\n"
                    ]
                }
            ],
            "source": [
                "recommend('when')"
            ]
        }
    ],
    "metadata": {
        "kernelspec": {
            "display_name": "Python 3.8.13 64-bit ('3.8.13')",
            "language": "python",
            "name": "python3"
        },
        "language_info": {
            "codemirror_mode": {
                "name": "ipython",
                "version": 3
            },
            "file_extension": ".py",
            "mimetype": "text/x-python",
            "name": "python",
            "nbconvert_exporter": "python",
            "pygments_lexer": "ipython3",
            "version": "3.10.12"
        },
        "orig_nbformat": 4,
        "vscode": {
            "interpreter": {
                "hash": "110cc1dee26208153f2972f08a2ad52b6a56238dc66d48e87fb757ef2996db56"
            }
        }
    },
    "nbformat": 4,
    "nbformat_minor": 2
}
